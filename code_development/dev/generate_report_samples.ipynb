{
 "cells": [
  {
   "cell_type": "code",
   "execution_count": 10,
   "id": "f1dd7d90",
   "metadata": {},
   "outputs": [],
   "source": [
    "import pandas as pd\n",
    "import seaborn as sns\n",
    "import matplotlib.pyplot as plt\n",
    "\n",
    "df = pd.read_csv('../data/acled_covid19.csv')"
   ]
  },
  {
   "cell_type": "code",
   "execution_count": 8,
   "id": "33e5e084",
   "metadata": {},
   "outputs": [
    {
     "data": {
      "text/html": [
       "<div>\n",
       "<style scoped>\n",
       "    .dataframe tbody tr th:only-of-type {\n",
       "        vertical-align: middle;\n",
       "    }\n",
       "\n",
       "    .dataframe tbody tr th {\n",
       "        vertical-align: top;\n",
       "    }\n",
       "\n",
       "    .dataframe thead th {\n",
       "        text-align: right;\n",
       "    }\n",
       "</style>\n",
       "<table border=\"1\" class=\"dataframe\">\n",
       "  <thead>\n",
       "    <tr style=\"text-align: right;\">\n",
       "      <th></th>\n",
       "      <th>data_id</th>\n",
       "      <th>event_date</th>\n",
       "      <th>sub_event_type</th>\n",
       "      <th>notes</th>\n",
       "    </tr>\n",
       "  </thead>\n",
       "  <tbody>\n",
       "    <tr>\n",
       "      <th>0</th>\n",
       "      <td>9498574</td>\n",
       "      <td>2022-09-17</td>\n",
       "      <td>Peaceful protest</td>\n",
       "      <td>On 17 September 2022, in Ciudad Bolivar (Bolivar), workers of the state-owned Venezuelan Corporation of Guayana (CVG) Bauxilum plant protested to demand their reinstatement in the company after being laid off due to the coronavirus pandemic. The protest took place in Ruiz Pineda park. [size=no report]</td>\n",
       "    </tr>\n",
       "    <tr>\n",
       "      <th>3</th>\n",
       "      <td>9491260</td>\n",
       "      <td>2022-09-15</td>\n",
       "      <td>Peaceful protest</td>\n",
       "      <td>On 15 September 2022, members of the COVID-19 Vaccine Victims' Family Council held a press conference with a banner and picketed in front of the National Assembly (Seoul City - Yeongdeungpo). They urged the authority to acknowledge the side effects of coronavirus vaccine inoculation and compensate the victims. [size=no report]</td>\n",
       "    </tr>\n",
       "  </tbody>\n",
       "</table>\n",
       "</div>"
      ],
      "text/plain": [
       "   data_id  event_date    sub_event_type  \\\n",
       "0  9498574  2022-09-17  Peaceful protest   \n",
       "3  9491260  2022-09-15  Peaceful protest   \n",
       "\n",
       "                                                                                                                                                                                                                                                                                                                                      notes  \n",
       "0                            On 17 September 2022, in Ciudad Bolivar (Bolivar), workers of the state-owned Venezuelan Corporation of Guayana (CVG) Bauxilum plant protested to demand their reinstatement in the company after being laid off due to the coronavirus pandemic. The protest took place in Ruiz Pineda park. [size=no report]  \n",
       "3  On 15 September 2022, members of the COVID-19 Vaccine Victims' Family Council held a press conference with a banner and picketed in front of the National Assembly (Seoul City - Yeongdeungpo). They urged the authority to acknowledge the side effects of coronavirus vaccine inoculation and compensate the victims. [size=no report]  "
      ]
     },
     "execution_count": 8,
     "metadata": {},
     "output_type": "execute_result"
    }
   ],
   "source": [
    "pd.set_option('max_colwidth',1000)\n",
    "ex1 = df[df.notes.str.contains('coronavirus')].head(1)[['data_id', 'event_date', 'sub_event_type', 'notes']]\n",
    "ex2 = df[df.notes.str.contains('COVID-19')].head(1)[['data_id', 'event_date', 'sub_event_type', 'notes']]\n",
    "\n",
    "pd.concat([ex1,ex2])"
   ]
  },
  {
   "cell_type": "code",
   "execution_count": 13,
   "id": "f5f0839e",
   "metadata": {},
   "outputs": [
    {
     "data": {
      "text/plain": [
       "Index(['Unnamed: 0', 'Unnamed: 0.1', 'data_id', 'iso', 'event_id_cnty',\n",
       "       'event_id_no_cnty', 'event_date', 'year', 'time_precision',\n",
       "       'event_type', 'sub_event_type', 'actor1', 'assoc_actor_1', 'inter1',\n",
       "       'actor2', 'assoc_actor_2', 'inter2', 'interaction', 'region', 'country',\n",
       "       'admin1', 'admin2', 'admin3', 'location', 'latitude', 'longitude',\n",
       "       'geo_precision', 'source', 'source_scale', 'notes', 'fatalities',\n",
       "       'timestamp', 'iso3', 'source_singular', 'source_list'],\n",
       "      dtype='object')"
      ]
     },
     "execution_count": 13,
     "metadata": {},
     "output_type": "execute_result"
    }
   ],
   "source": [
    "ex_df = pd.read_csv('../data/EXPANDED_acled_covid19.csv')\n",
    "ex_df.columns"
   ]
  },
  {
   "cell_type": "code",
   "execution_count": 32,
   "id": "8cdd40fd",
   "metadata": {},
   "outputs": [
    {
     "data": {
      "text/html": [
       "<div>\n",
       "<style scoped>\n",
       "    .dataframe tbody tr th:only-of-type {\n",
       "        vertical-align: middle;\n",
       "    }\n",
       "\n",
       "    .dataframe tbody tr th {\n",
       "        vertical-align: top;\n",
       "    }\n",
       "\n",
       "    .dataframe thead th {\n",
       "        text-align: right;\n",
       "    }\n",
       "</style>\n",
       "<table border=\"1\" class=\"dataframe\">\n",
       "  <thead>\n",
       "    <tr style=\"text-align: right;\">\n",
       "      <th></th>\n",
       "      <th>data_id</th>\n",
       "      <th>event_date</th>\n",
       "      <th>location</th>\n",
       "      <th>source</th>\n",
       "    </tr>\n",
       "  </thead>\n",
       "  <tbody>\n",
       "    <tr>\n",
       "      <th>0</th>\n",
       "      <td>9498574</td>\n",
       "      <td>2022-09-17</td>\n",
       "      <td>Ciudad Bolivar</td>\n",
       "      <td>Diario Primicia</td>\n",
       "    </tr>\n",
       "    <tr>\n",
       "      <th>9</th>\n",
       "      <td>9492040</td>\n",
       "      <td>2022-09-12</td>\n",
       "      <td>Halle (Saale)</td>\n",
       "      <td>Mitteldeutschen Zeitung; Mitteldeutscher Rundfunk</td>\n",
       "    </tr>\n",
       "    <tr>\n",
       "      <th>14</th>\n",
       "      <td>9466689</td>\n",
       "      <td>2022-09-09</td>\n",
       "      <td>Vingt Cinq</td>\n",
       "      <td>Le Mauricien; Defi Media; L'Express (Mauritius)</td>\n",
       "    </tr>\n",
       "  </tbody>\n",
       "</table>\n",
       "</div>"
      ],
      "text/plain": [
       "    data_id  event_date        location  \\\n",
       "0   9498574  2022-09-17  Ciudad Bolivar   \n",
       "9   9492040  2022-09-12   Halle (Saale)   \n",
       "14  9466689  2022-09-09      Vingt Cinq   \n",
       "\n",
       "                                               source  \n",
       "0                                     Diario Primicia  \n",
       "9   Mitteldeutschen Zeitung; Mitteldeutscher Rundfunk  \n",
       "14    Le Mauricien; Defi Media; L'Express (Mauritius)  "
      ]
     },
     "execution_count": 32,
     "metadata": {},
     "output_type": "execute_result"
    }
   ],
   "source": [
    "data_ids = [9466689, 9498574, 9492040]\n",
    "cols = ['data_id', 'event_date', 'location', 'source']\n",
    "df[df.data_id.isin(data_ids)][cols]"
   ]
  },
  {
   "cell_type": "code",
   "execution_count": 33,
   "id": "76c72418",
   "metadata": {},
   "outputs": [
    {
     "data": {
      "text/html": [
       "<div>\n",
       "<style scoped>\n",
       "    .dataframe tbody tr th:only-of-type {\n",
       "        vertical-align: middle;\n",
       "    }\n",
       "\n",
       "    .dataframe tbody tr th {\n",
       "        vertical-align: top;\n",
       "    }\n",
       "\n",
       "    .dataframe thead th {\n",
       "        text-align: right;\n",
       "    }\n",
       "</style>\n",
       "<table border=\"1\" class=\"dataframe\">\n",
       "  <thead>\n",
       "    <tr style=\"text-align: right;\">\n",
       "      <th></th>\n",
       "      <th>data_id</th>\n",
       "      <th>event_date</th>\n",
       "      <th>location</th>\n",
       "      <th>source</th>\n",
       "      <th>source_singular</th>\n",
       "    </tr>\n",
       "  </thead>\n",
       "  <tbody>\n",
       "    <tr>\n",
       "      <th>0</th>\n",
       "      <td>9498574</td>\n",
       "      <td>2022-09-17</td>\n",
       "      <td>Ciudad Bolivar</td>\n",
       "      <td>Diario Primicia</td>\n",
       "      <td>Diario Primicia</td>\n",
       "    </tr>\n",
       "    <tr>\n",
       "      <th>9</th>\n",
       "      <td>9492040</td>\n",
       "      <td>2022-09-12</td>\n",
       "      <td>Halle (Saale)</td>\n",
       "      <td>Mitteldeutschen Zeitung; Mitteldeutscher Rundfunk</td>\n",
       "      <td>Mitteldeutschen Zeitung</td>\n",
       "    </tr>\n",
       "    <tr>\n",
       "      <th>10</th>\n",
       "      <td>9492040</td>\n",
       "      <td>2022-09-12</td>\n",
       "      <td>Halle (Saale)</td>\n",
       "      <td>Mitteldeutschen Zeitung; Mitteldeutscher Rundfunk</td>\n",
       "      <td>Mitteldeutscher Rundfunk</td>\n",
       "    </tr>\n",
       "    <tr>\n",
       "      <th>15</th>\n",
       "      <td>9466689</td>\n",
       "      <td>2022-09-09</td>\n",
       "      <td>Vingt Cinq</td>\n",
       "      <td>Le Mauricien; Defi Media; L'Express (Mauritius)</td>\n",
       "      <td>Le Mauricien</td>\n",
       "    </tr>\n",
       "    <tr>\n",
       "      <th>16</th>\n",
       "      <td>9466689</td>\n",
       "      <td>2022-09-09</td>\n",
       "      <td>Vingt Cinq</td>\n",
       "      <td>Le Mauricien; Defi Media; L'Express (Mauritius)</td>\n",
       "      <td>Defi Media</td>\n",
       "    </tr>\n",
       "    <tr>\n",
       "      <th>17</th>\n",
       "      <td>9466689</td>\n",
       "      <td>2022-09-09</td>\n",
       "      <td>Vingt Cinq</td>\n",
       "      <td>Le Mauricien; Defi Media; L'Express (Mauritius)</td>\n",
       "      <td>L'Express (Mauritius)</td>\n",
       "    </tr>\n",
       "  </tbody>\n",
       "</table>\n",
       "</div>"
      ],
      "text/plain": [
       "    data_id  event_date        location  \\\n",
       "0   9498574  2022-09-17  Ciudad Bolivar   \n",
       "9   9492040  2022-09-12   Halle (Saale)   \n",
       "10  9492040  2022-09-12   Halle (Saale)   \n",
       "15  9466689  2022-09-09      Vingt Cinq   \n",
       "16  9466689  2022-09-09      Vingt Cinq   \n",
       "17  9466689  2022-09-09      Vingt Cinq   \n",
       "\n",
       "                                               source  \\\n",
       "0                                     Diario Primicia   \n",
       "9   Mitteldeutschen Zeitung; Mitteldeutscher Rundfunk   \n",
       "10  Mitteldeutschen Zeitung; Mitteldeutscher Rundfunk   \n",
       "15    Le Mauricien; Defi Media; L'Express (Mauritius)   \n",
       "16    Le Mauricien; Defi Media; L'Express (Mauritius)   \n",
       "17    Le Mauricien; Defi Media; L'Express (Mauritius)   \n",
       "\n",
       "             source_singular  \n",
       "0            Diario Primicia  \n",
       "9    Mitteldeutschen Zeitung  \n",
       "10  Mitteldeutscher Rundfunk  \n",
       "15              Le Mauricien  \n",
       "16                Defi Media  \n",
       "17     L'Express (Mauritius)  "
      ]
     },
     "execution_count": 33,
     "metadata": {},
     "output_type": "execute_result"
    }
   ],
   "source": [
    "ex_df[ex_df.data_id.isin(data_ids)][cols + ['source_singular']]"
   ]
  }
 ],
 "metadata": {
  "kernelspec": {
   "display_name": "Python 3 (ipykernel)",
   "language": "python",
   "name": "python3"
  },
  "language_info": {
   "codemirror_mode": {
    "name": "ipython",
    "version": 3
   },
   "file_extension": ".py",
   "mimetype": "text/x-python",
   "name": "python",
   "nbconvert_exporter": "python",
   "pygments_lexer": "ipython3",
   "version": "3.10.0"
  }
 },
 "nbformat": 4,
 "nbformat_minor": 5
}
