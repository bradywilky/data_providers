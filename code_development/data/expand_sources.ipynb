{
 "cells": [
  {
   "cell_type": "markdown",
   "id": "67c9ca26",
   "metadata": {},
   "source": [
    "The dataset we created has a column called <code>sources</code> that is a list of the sources that reported on that event. For our analysis, we need to look at each individual source, so we need to create a modified version of the dataset that has a row for each individual source that reported on the event. For example, one row may contain three different sources that reported on the event. This process will expand that one row to three rows, each for one of the three different sources."
   ]
  },
  {
   "cell_type": "code",
   "execution_count": 1,
   "id": "0d0ad5a3",
   "metadata": {},
   "outputs": [],
   "source": [
    "import pandas as pd\n",
    "import seaborn as sns\n",
    "import matplotlib.pyplot as plt"
   ]
  },
  {
   "cell_type": "markdown",
   "id": "41f2bebb",
   "metadata": {},
   "source": [
    "We first read in our local CSV file of the dataset we pulled from the ACLED API."
   ]
  },
  {
   "cell_type": "code",
   "execution_count": 2,
   "id": "fca9ad06",
   "metadata": {},
   "outputs": [],
   "source": [
    "df = pd.read_csv('../data/acled_covid19.csv')"
   ]
  },
  {
   "cell_type": "markdown",
   "id": "e4669231",
   "metadata": {},
   "source": [
    "Then, we get a list of all the distinct individual sources that are in our dataset. We turn this list into a pandas DataFrame for our next steps."
   ]
  },
  {
   "cell_type": "code",
   "execution_count": 3,
   "id": "b8b93e12",
   "metadata": {},
   "outputs": [],
   "source": [
    "# First, we get a collective list of sources\n",
    "sources_list = list()\n",
    "for s in df['source']:\n",
    "    for i in s.split(';'):\n",
    "        sources_list.append(i.strip())\n",
    "        \n",
    "# From our collective list of sources we need a pandas DataFrame of distinct sources\n",
    "sources_distinct = list(set(sources_list))\n",
    "sources_distinct_df = pd.DataFrame({'source_singular': sources_distinct})"
   ]
  },
  {
   "cell_type": "markdown",
   "id": "05e393d0",
   "metadata": {},
   "source": [
    "Finally, we join the pandas DataFrame of distinct individual sources to our original COVID-19 dataset (read in as another pandas DataFrame) on the clause that the <code>source</code> column contains the individual source. To do this, we use the <code>pandasql</code> library."
   ]
  },
  {
   "cell_type": "code",
   "execution_count": 4,
   "id": "e1888312",
   "metadata": {},
   "outputs": [
    {
     "data": {
      "text/html": [
       "<div>\n",
       "<style scoped>\n",
       "    .dataframe tbody tr th:only-of-type {\n",
       "        vertical-align: middle;\n",
       "    }\n",
       "\n",
       "    .dataframe tbody tr th {\n",
       "        vertical-align: top;\n",
       "    }\n",
       "\n",
       "    .dataframe thead th {\n",
       "        text-align: right;\n",
       "    }\n",
       "</style>\n",
       "<table border=\"1\" class=\"dataframe\">\n",
       "  <thead>\n",
       "    <tr style=\"text-align: right;\">\n",
       "      <th></th>\n",
       "      <th>Unnamed: 0</th>\n",
       "      <th>data_id</th>\n",
       "      <th>iso</th>\n",
       "      <th>event_id_cnty</th>\n",
       "      <th>event_id_no_cnty</th>\n",
       "      <th>event_date</th>\n",
       "      <th>year</th>\n",
       "      <th>time_precision</th>\n",
       "      <th>event_type</th>\n",
       "      <th>sub_event_type</th>\n",
       "      <th>...</th>\n",
       "      <th>latitude</th>\n",
       "      <th>longitude</th>\n",
       "      <th>geo_precision</th>\n",
       "      <th>source</th>\n",
       "      <th>source_scale</th>\n",
       "      <th>notes</th>\n",
       "      <th>fatalities</th>\n",
       "      <th>timestamp</th>\n",
       "      <th>iso3</th>\n",
       "      <th>source_singular</th>\n",
       "    </tr>\n",
       "  </thead>\n",
       "  <tbody>\n",
       "    <tr>\n",
       "      <th>0</th>\n",
       "      <td>0</td>\n",
       "      <td>9498574</td>\n",
       "      <td>862</td>\n",
       "      <td>VEN12964</td>\n",
       "      <td>12964</td>\n",
       "      <td>2022-09-17</td>\n",
       "      <td>2022</td>\n",
       "      <td>1</td>\n",
       "      <td>Protests</td>\n",
       "      <td>Peaceful protest</td>\n",
       "      <td>...</td>\n",
       "      <td>8.1292</td>\n",
       "      <td>-63.5409</td>\n",
       "      <td>1</td>\n",
       "      <td>Diario Primicia</td>\n",
       "      <td>Subnational</td>\n",
       "      <td>On 17 September 2022, in Ciudad Bolivar (Boliv...</td>\n",
       "      <td>0</td>\n",
       "      <td>1664226314</td>\n",
       "      <td>VEN</td>\n",
       "      <td>Diario Primicia</td>\n",
       "    </tr>\n",
       "    <tr>\n",
       "      <th>1</th>\n",
       "      <td>1</td>\n",
       "      <td>9491030</td>\n",
       "      <td>410</td>\n",
       "      <td>KOR25174</td>\n",
       "      <td>25174</td>\n",
       "      <td>2022-09-16</td>\n",
       "      <td>2022</td>\n",
       "      <td>1</td>\n",
       "      <td>Protests</td>\n",
       "      <td>Peaceful protest</td>\n",
       "      <td>...</td>\n",
       "      <td>37.4744</td>\n",
       "      <td>127.0304</td>\n",
       "      <td>1</td>\n",
       "      <td>EDaily</td>\n",
       "      <td>National</td>\n",
       "      <td>On 16 September 2022, members of the All-Korea...</td>\n",
       "      <td>0</td>\n",
       "      <td>1663685720</td>\n",
       "      <td>KOR</td>\n",
       "      <td>EDaily</td>\n",
       "    </tr>\n",
       "    <tr>\n",
       "      <th>2</th>\n",
       "      <td>2</td>\n",
       "      <td>9491038</td>\n",
       "      <td>156</td>\n",
       "      <td>CHN12137</td>\n",
       "      <td>12137</td>\n",
       "      <td>2022-09-15</td>\n",
       "      <td>2022</td>\n",
       "      <td>1</td>\n",
       "      <td>Protests</td>\n",
       "      <td>Peaceful protest</td>\n",
       "      <td>...</td>\n",
       "      <td>22.2811</td>\n",
       "      <td>114.1598</td>\n",
       "      <td>1</td>\n",
       "      <td>HK01</td>\n",
       "      <td>Subnational</td>\n",
       "      <td>On 15 September 2022, three representatives of...</td>\n",
       "      <td>0</td>\n",
       "      <td>1663685720</td>\n",
       "      <td>CHN</td>\n",
       "      <td>HK01</td>\n",
       "    </tr>\n",
       "    <tr>\n",
       "      <th>3</th>\n",
       "      <td>3</td>\n",
       "      <td>9491260</td>\n",
       "      <td>410</td>\n",
       "      <td>KOR25204</td>\n",
       "      <td>25204</td>\n",
       "      <td>2022-09-15</td>\n",
       "      <td>2022</td>\n",
       "      <td>1</td>\n",
       "      <td>Protests</td>\n",
       "      <td>Peaceful protest</td>\n",
       "      <td>...</td>\n",
       "      <td>37.5223</td>\n",
       "      <td>126.9075</td>\n",
       "      <td>1</td>\n",
       "      <td>YNA</td>\n",
       "      <td>National</td>\n",
       "      <td>On 15 September 2022, members of the COVID-19 ...</td>\n",
       "      <td>0</td>\n",
       "      <td>1663685720</td>\n",
       "      <td>KOR</td>\n",
       "      <td>YNA</td>\n",
       "    </tr>\n",
       "    <tr>\n",
       "      <th>4</th>\n",
       "      <td>4</td>\n",
       "      <td>9492137</td>\n",
       "      <td>250</td>\n",
       "      <td>FRA18626</td>\n",
       "      <td>18626</td>\n",
       "      <td>2022-09-15</td>\n",
       "      <td>2022</td>\n",
       "      <td>1</td>\n",
       "      <td>Protests</td>\n",
       "      <td>Peaceful protest</td>\n",
       "      <td>...</td>\n",
       "      <td>43.2951</td>\n",
       "      <td>-0.3708</td>\n",
       "      <td>1</td>\n",
       "      <td>France Bleu</td>\n",
       "      <td>National</td>\n",
       "      <td>On 15 September 2022, around 30 opponents of c...</td>\n",
       "      <td>0</td>\n",
       "      <td>1663691322</td>\n",
       "      <td>FRA</td>\n",
       "      <td>France Bleu</td>\n",
       "    </tr>\n",
       "  </tbody>\n",
       "</table>\n",
       "<p>5 rows × 33 columns</p>\n",
       "</div>"
      ],
      "text/plain": [
       "   Unnamed: 0  data_id  iso event_id_cnty  event_id_no_cnty  event_date  year  \\\n",
       "0           0  9498574  862      VEN12964             12964  2022-09-17  2022   \n",
       "1           1  9491030  410      KOR25174             25174  2022-09-16  2022   \n",
       "2           2  9491038  156      CHN12137             12137  2022-09-15  2022   \n",
       "3           3  9491260  410      KOR25204             25204  2022-09-15  2022   \n",
       "4           4  9492137  250      FRA18626             18626  2022-09-15  2022   \n",
       "\n",
       "   time_precision event_type    sub_event_type  ... latitude longitude  \\\n",
       "0               1   Protests  Peaceful protest  ...   8.1292  -63.5409   \n",
       "1               1   Protests  Peaceful protest  ...  37.4744  127.0304   \n",
       "2               1   Protests  Peaceful protest  ...  22.2811  114.1598   \n",
       "3               1   Protests  Peaceful protest  ...  37.5223  126.9075   \n",
       "4               1   Protests  Peaceful protest  ...  43.2951   -0.3708   \n",
       "\n",
       "   geo_precision           source source_scale  \\\n",
       "0              1  Diario Primicia  Subnational   \n",
       "1              1           EDaily     National   \n",
       "2              1             HK01  Subnational   \n",
       "3              1              YNA     National   \n",
       "4              1      France Bleu     National   \n",
       "\n",
       "                                               notes  fatalities   timestamp  \\\n",
       "0  On 17 September 2022, in Ciudad Bolivar (Boliv...           0  1664226314   \n",
       "1  On 16 September 2022, members of the All-Korea...           0  1663685720   \n",
       "2  On 15 September 2022, three representatives of...           0  1663685720   \n",
       "3  On 15 September 2022, members of the COVID-19 ...           0  1663685720   \n",
       "4  On 15 September 2022, around 30 opponents of c...           0  1663691322   \n",
       "\n",
       "  iso3  source_singular  \n",
       "0  VEN  Diario Primicia  \n",
       "1  KOR           EDaily  \n",
       "2  CHN             HK01  \n",
       "3  KOR              YNA  \n",
       "4  FRA      France Bleu  \n",
       "\n",
       "[5 rows x 33 columns]"
      ]
     },
     "execution_count": 4,
     "metadata": {},
     "output_type": "execute_result"
    }
   ],
   "source": [
    "# since eventually we're using a LIKE clause for the join, we need to add percentage wildcards around each distinct source\n",
    "# here in our pandas DataFrame, because we can't in pandasql.\n",
    "sources_distinct_df['source_singular'] = sources_distinct_df['source_singular'].apply(lambda x: f'%{x}%')\n",
    "\n",
    "# Second, join this distinct source df with the main df. I prefer using pandasql because of the like clause.\n",
    "from pandasql import sqldf\n",
    "sql = lambda q: sqldf(q, globals())\n",
    "\n",
    "expanded_source_df = sql(\n",
    "'''\n",
    "    SELECT * FROM df main\n",
    "    JOIN sources_distinct_df dst_src\n",
    "    ON main.source LIKE dst_src.source_singular\n",
    "'''\n",
    ")\n",
    "\n",
    "# We can now remove the percentage wildcards from the source_singular column, since we only needed them for the previous step.\n",
    "expanded_source_df['source_singular'] = expanded_source_df['source_singular'].apply(lambda x: x.replace('%', ''))\n",
    "expanded_source_df.head()"
   ]
  },
  {
   "cell_type": "markdown",
   "id": "9b88d606",
   "metadata": {},
   "source": [
    "A few singular sources are incorrectly matching to certain set sources. Singular sources with names that are in other singular\n",
    "sources are incorrectly matching.\n",
    "\n",
    "Examples:\n",
    "- the source ERR is matching to any source set with 'Osterreich' in its name.\n",
    "- the source Today is matching to Parma Today and Milano Today\n",
    "\n",
    "To correct this, we create a column called <code>source_list</code>, and we remove rows where <code>source_singular</code> is not an element of <code>source_list</code>."
   ]
  },
  {
   "cell_type": "code",
   "execution_count": 5,
   "id": "ab85a9bd",
   "metadata": {},
   "outputs": [
    {
     "name": "stdout",
     "output_type": "stream",
     "text": [
      "There are 87096 correctly matched rows and 23088 incrorrectly matched rows.\n"
     ]
    }
   ],
   "source": [
    "expanded_source_df['source_list'] = expanded_source_df['source'].str.split(';')\n",
    "mismatch_count = len(\n",
    "    expanded_source_df[expanded_source_df.apply(lambda x: x.source_singular not in [s.strip() for s in x.source_list], axis=1)]\n",
    ")\n",
    "match_count = len(\n",
    "    expanded_source_df[expanded_source_df.apply(lambda x: x.source_singular in [s.strip() for s in x.source_list], axis=1)]\n",
    ")\n",
    "print(f'There are {match_count} correctly matched rows and {mismatch_count} incrorrectly matched rows.')"
   ]
  },
  {
   "cell_type": "code",
   "execution_count": 6,
   "id": "43879328",
   "metadata": {},
   "outputs": [],
   "source": [
    "final_expanded_source_df = expanded_source_df[\n",
    "    expanded_source_df.apply(lambda x: x.source_singular in [s.strip() for s in x.source_list], axis=1)\n",
    "]\n",
    "final_expanded_source_df.to_csv('EXPANDED_acled_covid19.csv')"
   ]
  },
  {
   "cell_type": "markdown",
   "id": "85931d67",
   "metadata": {},
   "source": [
    "To verify that we have successfully created multiple rows for each source, we can count the number of individual sources per row in our originial dataset and compare that to the length of our new expanded dataset."
   ]
  },
  {
   "cell_type": "code",
   "execution_count": 7,
   "id": "ea8977d4",
   "metadata": {},
   "outputs": [],
   "source": [
    "# df['source_count'] = df['source'].str.split(';').str.len()\n",
    "# print(f'Total individual sources in original dataset: {sum(df.source_count)}')\n",
    "# print(f'Length of new dataset: {len(final_expanded_source_df)}')"
   ]
  }
 ],
 "metadata": {
  "kernelspec": {
   "display_name": "Python 3 (ipykernel)",
   "language": "python",
   "name": "python3"
  },
  "language_info": {
   "codemirror_mode": {
    "name": "ipython",
    "version": 3
   },
   "file_extension": ".py",
   "mimetype": "text/x-python",
   "name": "python",
   "nbconvert_exporter": "python",
   "pygments_lexer": "ipython3",
   "version": "3.10.0"
  },
  "varInspector": {
   "cols": {
    "lenName": 16,
    "lenType": 16,
    "lenVar": 40
   },
   "kernels_config": {
    "python": {
     "delete_cmd_postfix": "",
     "delete_cmd_prefix": "del ",
     "library": "var_list.py",
     "varRefreshCmd": "print(var_dic_list())"
    },
    "r": {
     "delete_cmd_postfix": ") ",
     "delete_cmd_prefix": "rm(",
     "library": "var_list.r",
     "varRefreshCmd": "cat(var_dic_list()) "
    }
   },
   "types_to_exclude": [
    "module",
    "function",
    "builtin_function_or_method",
    "instance",
    "_Feature"
   ],
   "window_display": false
  }
 },
 "nbformat": 4,
 "nbformat_minor": 5
}
