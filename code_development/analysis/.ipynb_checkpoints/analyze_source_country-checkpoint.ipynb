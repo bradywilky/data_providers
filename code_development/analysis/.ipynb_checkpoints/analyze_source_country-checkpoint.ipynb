{
 "cells": [
  {
   "cell_type": "code",
   "execution_count": null,
   "id": "1cb0a515",
   "metadata": {},
   "outputs": [],
   "source": [
    "import pandas as pd\n",
    "import seaborn as sns\n",
    "import matplotlib.pyplot as plt\n",
    "\n",
    "from pandasql import sqldf\n",
    "\n",
    "sql = lambda q: sqldf(q, globals())\n",
    "\n",
    "\n",
    "extd_df = pd.read_csv('../data/EXPANDED_acled_covid19.csv')"
   ]
  },
  {
   "cell_type": "code",
   "execution_count": null,
   "id": "a4b6eca6",
   "metadata": {},
   "outputs": [],
   "source": [
    "geo_df = sql('''\n",
    "SELECT DISTINCT country\n",
    "FROM extd_df\n",
    "''')\n",
    "geo_df"
   ]
  },
  {
   "cell_type": "code",
   "execution_count": null,
   "id": "f77836bb",
   "metadata": {},
   "outputs": [],
   "source": [
    "def _clean(c):\n",
    "    c = c.replace(' ', '_')\n",
    "    c = c.replace('-', '_')\n",
    "    c = c.replace('.', '')\n",
    "    c = c.replace(',', '')\n",
    "    \n",
    "    return c"
   ]
  },
  {
   "cell_type": "code",
   "execution_count": null,
   "id": "2fbfdef0",
   "metadata": {},
   "outputs": [],
   "source": [
    "query_fmt = ''\n",
    "for i, t in enumerate(geo_df['country']):\n",
    "    t_cln = _clean(t)\n",
    "    query_fmt += f'sum(CASE WHEN country = \"{t}\" THEN 1 ELSE 0 END ) AS \"{t_cln}\"'\n",
    "    if i < len(geo_df['country']) - 1:\n",
    "        query_fmt += ',\\n'\n",
    "        \n",
    "\n",
    "type_cnt_df = sql(f'''\n",
    "SELECT source_singular,\n",
    "{query_fmt}\n",
    "FROM extd_df\n",
    "GROUP BY source_singular\n",
    "''')\n",
    "type_cnt_df"
   ]
  },
  {
   "cell_type": "code",
   "execution_count": null,
   "id": "730c1123",
   "metadata": {},
   "outputs": [],
   "source": [
    "tot_cnt_df = sql(f'''\n",
    "SELECT source_singular,\n",
    "count(*) total\n",
    "FROM extd_df\n",
    "GROUP BY source_singular\n",
    "''')\n",
    "tot_cnt_df"
   ]
  },
  {
   "cell_type": "code",
   "execution_count": null,
   "id": "283ff0aa",
   "metadata": {
    "scrolled": false
   },
   "outputs": [],
   "source": [
    "query_fmt = ''\n",
    "for i, t in enumerate(geo_df['country']):\n",
    "    t_cln = _clean(t)\n",
    "    t_pct_nm = t_cln + '_pct'\n",
    "    query_fmt += f'cast({t_cln} AS DOUBLE) / cast(total AS DOUBLE) \"{t_pct_nm}\"'\n",
    "    if i < len(geo_df['country']) - 1:\n",
    "        query_fmt += ',\\n'\n",
    "        \n",
    "type_pct_df = sql(f'''\n",
    "SELECT\n",
    "    a.*,\n",
    "    b.total,\n",
    "{query_fmt}\n",
    "FROM type_cnt_df a\n",
    "JOIN tot_cnt_df b\n",
    "    ON a.source_singular = b.source_singular\n",
    "''')\n",
    "\n",
    "type_pct_df.to_csv('../data/source_country.csv')\n",
    "\n",
    "type_pct_df[(type_pct_df.Germany_pct > 0) & (type_pct_df.Austria_pct > 0)][['source_singular', 'total', 'Germany', 'Austria', 'Germany_pct', 'Austria_pct']]"
   ]
  },
  {
   "cell_type": "code",
   "execution_count": null,
   "id": "aad2b2d5",
   "metadata": {},
   "outputs": [],
   "source": [
    "def generate_country_df(total_min, total_max, pct_min):\n",
    "    df = pd.DataFrame(columns=['source_singular', 'country', 'country_total', 'country_pct'])\n",
    "    for t in geo_df['country']:\n",
    "        t_cln = _clean(t)\n",
    "        t_cln_pct_nm = t_cln + '_pct'\n",
    "\n",
    "        query = f'''\n",
    "        SELECT\n",
    "            source_singular,\n",
    "            \"{t_cln}_majority\" AS \"country\",\n",
    "            {t_cln} AS \"country_total\",\n",
    "            {t_cln_pct_nm} AS country_pct\n",
    "        FROM\n",
    "            type_pct_df\n",
    "        WHERE \n",
    "            total >= {total_min}\n",
    "            AND total <= {total_max}\n",
    "            AND {t_cln_pct_nm} >= {pct_min}\n",
    "        '''\n",
    "\n",
    "        df1 = sql(query)\n",
    "        df = pd.concat([df, df1])\n",
    "        \n",
    "    return df"
   ]
  },
  {
   "cell_type": "code",
   "execution_count": null,
   "id": "9e90b9f3",
   "metadata": {},
   "outputs": [],
   "source": [
    "generate_country_df(10, 100000, 0.55)"
   ]
  }
 ],
 "metadata": {
  "kernelspec": {
   "display_name": "Python 3 (ipykernel)",
   "language": "python",
   "name": "python3"
  },
  "language_info": {
   "codemirror_mode": {
    "name": "ipython",
    "version": 3
   },
   "file_extension": ".py",
   "mimetype": "text/x-python",
   "name": "python",
   "nbconvert_exporter": "python",
   "pygments_lexer": "ipython3",
   "version": "3.10.0"
  },
  "varInspector": {
   "cols": {
    "lenName": 16,
    "lenType": 16,
    "lenVar": 40
   },
   "kernels_config": {
    "python": {
     "delete_cmd_postfix": "",
     "delete_cmd_prefix": "del ",
     "library": "var_list.py",
     "varRefreshCmd": "print(var_dic_list())"
    },
    "r": {
     "delete_cmd_postfix": ") ",
     "delete_cmd_prefix": "rm(",
     "library": "var_list.r",
     "varRefreshCmd": "cat(var_dic_list()) "
    }
   },
   "types_to_exclude": [
    "module",
    "function",
    "builtin_function_or_method",
    "instance",
    "_Feature"
   ],
   "window_display": false
  }
 },
 "nbformat": 4,
 "nbformat_minor": 5
}
