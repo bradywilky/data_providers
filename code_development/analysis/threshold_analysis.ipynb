{
 "cells": [
  {
   "cell_type": "code",
   "execution_count": 15,
   "id": "0b7855fb",
   "metadata": {},
   "outputs": [
    {
     "data": {
      "text/html": [
       "<div>\n",
       "<style scoped>\n",
       "    .dataframe tbody tr th:only-of-type {\n",
       "        vertical-align: middle;\n",
       "    }\n",
       "\n",
       "    .dataframe tbody tr th {\n",
       "        vertical-align: top;\n",
       "    }\n",
       "\n",
       "    .dataframe thead th {\n",
       "        text-align: right;\n",
       "    }\n",
       "</style>\n",
       "<table border=\"1\" class=\"dataframe\">\n",
       "  <thead>\n",
       "    <tr style=\"text-align: right;\">\n",
       "      <th></th>\n",
       "      <th>source_singular</th>\n",
       "      <th>country</th>\n",
       "      <th>country_pct</th>\n",
       "      <th>country_total</th>\n",
       "      <th>sub_event_type</th>\n",
       "      <th>sub_event_type_pct</th>\n",
       "      <th>sub_event_type_total</th>\n",
       "    </tr>\n",
       "  </thead>\n",
       "  <tbody>\n",
       "    <tr>\n",
       "      <th>10</th>\n",
       "      <td>Diario Co Latino</td>\n",
       "      <td>El_Salvador_majority</td>\n",
       "      <td>1.0</td>\n",
       "      <td>10.0</td>\n",
       "      <td>Peaceful_protest_majority</td>\n",
       "      <td>0.800000</td>\n",
       "      <td>8.0</td>\n",
       "    </tr>\n",
       "    <tr>\n",
       "      <th>11</th>\n",
       "      <td>El Salvador.com</td>\n",
       "      <td>El_Salvador_majority</td>\n",
       "      <td>1.0</td>\n",
       "      <td>16.0</td>\n",
       "      <td>Peaceful_protest_majority</td>\n",
       "      <td>0.875000</td>\n",
       "      <td>14.0</td>\n",
       "    </tr>\n",
       "    <tr>\n",
       "      <th>15</th>\n",
       "      <td>Brescia Today</td>\n",
       "      <td>Italy_majority</td>\n",
       "      <td>1.0</td>\n",
       "      <td>14.0</td>\n",
       "      <td>Peaceful_protest_majority</td>\n",
       "      <td>0.857143</td>\n",
       "      <td>12.0</td>\n",
       "    </tr>\n",
       "    <tr>\n",
       "      <th>25</th>\n",
       "      <td>AM New York</td>\n",
       "      <td>United_States_majority</td>\n",
       "      <td>1.0</td>\n",
       "      <td>46.0</td>\n",
       "      <td>Peaceful_protest_majority</td>\n",
       "      <td>0.956522</td>\n",
       "      <td>44.0</td>\n",
       "    </tr>\n",
       "    <tr>\n",
       "      <th>29</th>\n",
       "      <td>Leipziger Volkszeitung</td>\n",
       "      <td>Germany_majority</td>\n",
       "      <td>1.0</td>\n",
       "      <td>28.0</td>\n",
       "      <td>Peaceful_protest_majority</td>\n",
       "      <td>1.000000</td>\n",
       "      <td>28.0</td>\n",
       "    </tr>\n",
       "    <tr>\n",
       "      <th>...</th>\n",
       "      <td>...</td>\n",
       "      <td>...</td>\n",
       "      <td>...</td>\n",
       "      <td>...</td>\n",
       "      <td>...</td>\n",
       "      <td>...</td>\n",
       "      <td>...</td>\n",
       "    </tr>\n",
       "    <tr>\n",
       "      <th>5180</th>\n",
       "      <td>Zimbabwe Human Rights NGO Forum</td>\n",
       "      <td>Zimbabwe_majority</td>\n",
       "      <td>1.0</td>\n",
       "      <td>7.0</td>\n",
       "      <td>Attack_majority</td>\n",
       "      <td>0.857143</td>\n",
       "      <td>6.0</td>\n",
       "    </tr>\n",
       "    <tr>\n",
       "      <th>5313</th>\n",
       "      <td>Antimafia Duemila</td>\n",
       "      <td>Italy_majority</td>\n",
       "      <td>1.0</td>\n",
       "      <td>5.0</td>\n",
       "      <td>Violent_demonstration_majority</td>\n",
       "      <td>0.800000</td>\n",
       "      <td>4.0</td>\n",
       "    </tr>\n",
       "    <tr>\n",
       "      <th>5331</th>\n",
       "      <td>Assistance Association for Political Prisoners</td>\n",
       "      <td>Myanmar_majority</td>\n",
       "      <td>1.0</td>\n",
       "      <td>5.0</td>\n",
       "      <td>Attack_majority</td>\n",
       "      <td>0.800000</td>\n",
       "      <td>4.0</td>\n",
       "    </tr>\n",
       "    <tr>\n",
       "      <th>5342</th>\n",
       "      <td>Bild Ostergotland</td>\n",
       "      <td>Sweden_majority</td>\n",
       "      <td>1.0</td>\n",
       "      <td>13.0</td>\n",
       "      <td>Peaceful_protest_majority</td>\n",
       "      <td>1.000000</td>\n",
       "      <td>13.0</td>\n",
       "    </tr>\n",
       "    <tr>\n",
       "      <th>5343</th>\n",
       "      <td>Norrkopings Tidningar</td>\n",
       "      <td>Sweden_majority</td>\n",
       "      <td>1.0</td>\n",
       "      <td>13.0</td>\n",
       "      <td>Peaceful_protest_majority</td>\n",
       "      <td>1.000000</td>\n",
       "      <td>13.0</td>\n",
       "    </tr>\n",
       "  </tbody>\n",
       "</table>\n",
       "<p>1661 rows × 7 columns</p>\n",
       "</div>"
      ],
      "text/plain": [
       "                                     source_singular                 country  \\\n",
       "10                                  Diario Co Latino    El_Salvador_majority   \n",
       "11                                   El Salvador.com    El_Salvador_majority   \n",
       "15                                     Brescia Today          Italy_majority   \n",
       "25                                       AM New York  United_States_majority   \n",
       "29                            Leipziger Volkszeitung        Germany_majority   \n",
       "...                                              ...                     ...   \n",
       "5180                 Zimbabwe Human Rights NGO Forum       Zimbabwe_majority   \n",
       "5313                               Antimafia Duemila          Italy_majority   \n",
       "5331  Assistance Association for Political Prisoners        Myanmar_majority   \n",
       "5342                               Bild Ostergotland         Sweden_majority   \n",
       "5343                           Norrkopings Tidningar         Sweden_majority   \n",
       "\n",
       "      country_pct  country_total                  sub_event_type  \\\n",
       "10            1.0           10.0       Peaceful_protest_majority   \n",
       "11            1.0           16.0       Peaceful_protest_majority   \n",
       "15            1.0           14.0       Peaceful_protest_majority   \n",
       "25            1.0           46.0       Peaceful_protest_majority   \n",
       "29            1.0           28.0       Peaceful_protest_majority   \n",
       "...           ...            ...                             ...   \n",
       "5180          1.0            7.0                 Attack_majority   \n",
       "5313          1.0            5.0  Violent_demonstration_majority   \n",
       "5331          1.0            5.0                 Attack_majority   \n",
       "5342          1.0           13.0       Peaceful_protest_majority   \n",
       "5343          1.0           13.0       Peaceful_protest_majority   \n",
       "\n",
       "      sub_event_type_pct  sub_event_type_total  \n",
       "10              0.800000                   8.0  \n",
       "11              0.875000                  14.0  \n",
       "15              0.857143                  12.0  \n",
       "25              0.956522                  44.0  \n",
       "29              1.000000                  28.0  \n",
       "...                  ...                   ...  \n",
       "5180            0.857143                   6.0  \n",
       "5313            0.800000                   4.0  \n",
       "5331            0.800000                   4.0  \n",
       "5342            1.000000                  13.0  \n",
       "5343            1.000000                  13.0  \n",
       "\n",
       "[1661 rows x 7 columns]"
      ]
     },
     "execution_count": 15,
     "metadata": {},
     "output_type": "execute_result"
    }
   ],
   "source": [
    "import pandas as pd\n",
    "from pandasql import sqldf\n",
    "import seaborn as sns\n",
    "import numpy as np\n",
    "\n",
    "p = 'C:/Users/15714/Documents/homework/2022 Fall/DAEN 690/Project Docs/data_providers/tagged_data_28-11-2022_21_08_44.csv'\n",
    "df = pd.read_csv(p).drop('Unnamed: 0', axis =1)\n",
    "extd_df = pd.read_csv('../data/EXPANDED_acled_covid19.csv')\n",
    "df[df['country'].notnull()]"
   ]
  },
  {
   "cell_type": "code",
   "execution_count": 41,
   "id": "9a3200cc",
   "metadata": {},
   "outputs": [
    {
     "data": {
      "text/html": [
       "<div>\n",
       "<style scoped>\n",
       "    .dataframe tbody tr th:only-of-type {\n",
       "        vertical-align: middle;\n",
       "    }\n",
       "\n",
       "    .dataframe tbody tr th {\n",
       "        vertical-align: top;\n",
       "    }\n",
       "\n",
       "    .dataframe thead th {\n",
       "        text-align: right;\n",
       "    }\n",
       "</style>\n",
       "<table border=\"1\" class=\"dataframe\">\n",
       "  <thead>\n",
       "    <tr style=\"text-align: right;\">\n",
       "      <th></th>\n",
       "      <th>count(DISTINCT source_singular)</th>\n",
       "    </tr>\n",
       "  </thead>\n",
       "  <tbody>\n",
       "    <tr>\n",
       "      <th>0</th>\n",
       "      <td>5366</td>\n",
       "    </tr>\n",
       "  </tbody>\n",
       "</table>\n",
       "</div>"
      ],
      "text/plain": [
       "   count(DISTINCT source_singular)\n",
       "0                             5366"
      ]
     },
     "execution_count": 41,
     "metadata": {},
     "output_type": "execute_result"
    }
   ],
   "source": [
    "# sqldf('''\n",
    "#     SELECT count(distinct source_singular)\n",
    "#     FROM df\n",
    "# ''', globals())\n",
    "\n",
    "sqldf('''\n",
    "    SELECT count(DISTINCT source_singular)\n",
    "    FROM df\n",
    "''', globals())"
   ]
  },
  {
   "cell_type": "code",
   "execution_count": 25,
   "id": "d10e4306",
   "metadata": {},
   "outputs": [],
   "source": [
    "def _clean(c):\n",
    "    for r in [' ', '-', '/']:\n",
    "        c = c.replace(r, '_')\n",
    "    \n",
    "    for r in ['.', ',']:\n",
    "        c = c.replace(r, '')\n",
    "    \n",
    "    return c\n",
    "\n",
    "cty = sqldf('''\n",
    "    SELECT DISTINCT source_singular, country\n",
    "    FROM df\n",
    "    WHERE country IS NOT NULL\n",
    "''', globals())\n",
    "\n",
    "cty['country'] = cty['country'].str.replace('_majority','')\n",
    "cty['country_cln'] = [_clean(c) for c in cty['country']]\n",
    "\n",
    "evt = sqldf('''\n",
    "    SELECT DISTINCT source_singular, sub_event_type\n",
    "    FROM df\n",
    "    WHERE sub_event_type IS NOT NULL\n",
    "''', globals())\n",
    "\n",
    "evt['sub_event_type'] = evt['sub_event_type'].str.replace('_majority','')\n",
    "evt['sub_event_type_cln'] = [_clean(c) for c in evt['sub_event_type']]"
   ]
  },
  {
   "cell_type": "code",
   "execution_count": 26,
   "id": "16e91378",
   "metadata": {},
   "outputs": [
    {
     "data": {
      "text/plain": [
       "126"
      ]
     },
     "execution_count": 26,
     "metadata": {},
     "output_type": "execute_result"
    }
   ],
   "source": [
    "cty_notin = [c for c in list(set(extd_df['country'])) if c not in list(cty['country_cln'])]\n",
    "len(cty_notin)"
   ]
  },
  {
   "cell_type": "code",
   "execution_count": 36,
   "id": "2652562f",
   "metadata": {},
   "outputs": [
    {
     "data": {
      "text/plain": [
       "9"
      ]
     },
     "execution_count": 36,
     "metadata": {},
     "output_type": "execute_result"
    }
   ],
   "source": [
    "evt_notin = [c for c in list(set(extd_df['sub_event_type'])) if _clean(c) not in list(evt['sub_event_type_cln'])]\n",
    "len(evt_notin)"
   ]
  },
  {
   "cell_type": "code",
   "execution_count": 32,
   "id": "3c8be251",
   "metadata": {},
   "outputs": [
    {
     "name": "stdout",
     "output_type": "stream",
     "text": [
      "{'Attack_majority', 'Peaceful_protest_majority', 'Mob_violence_majority', 'Looting_property_destruction_majority', 'Violent_demonstration_majority', 'Agreement_majority', 'Protest_with_intervention_majority', nan, 'Excessive_force_against_protesters_majority', 'Other_majority', 'Change_to_group_activity_majority'}\n",
      "----------------------------------------\n",
      "['Attack', 'Change_to_group_activity', 'Mob_violence', 'Excessive_force_against_protesters', 'Other', 'Protest_with_intervention', 'Agreement', 'Looting_property_destruction', 'Peaceful_protest', 'Violent_demonstration']\n"
     ]
    }
   ],
   "source": [
    "print(set(df['sub_event_type']))\n",
    "print('-' * 40)\n",
    "print(list(set(evt['sub_event_type_cln'])))"
   ]
  },
  {
   "cell_type": "code",
   "execution_count": 118,
   "id": "89fb11d7",
   "metadata": {},
   "outputs": [
    {
     "data": {
      "text/plain": [
       "<AxesSubplot:title={'center':'Tag Value Percent Threshold vs. Total Unique Countries Tagged'}, xlabel='Minimum Percent of Tag Value Per Source', ylabel='Total Countries'>"
      ]
     },
     "execution_count": 118,
     "metadata": {},
     "output_type": "execute_result"
    },
    {
     "data": {
      "image/png": "[encoded data removed]",
      "text/plain": [
       "<Figure size 720x360 with 1 Axes>"
      ]
     },
     "metadata": {
      "needs_background": "light"
     },
     "output_type": "display_data"
    }
   ],
   "source": [
    "cnt_df = sqldf('''\n",
    "    SELECT a.source_singular, a.country, cnt, cast(total as int) total, cast(cast(cnt as double)/cast(total as double) as double) pct FROM\n",
    "        (SELECT source_singular, country, count(*) cnt FROM extd_df GROUP BY source_singular, country) a\n",
    "        JOIN (SELECT source_singular, count(*) total FROM extd_df GROUP BY source_singular) b\n",
    "        ON a.source_singular = b.source_singular\n",
    "''', globals())\n",
    "\n",
    "def _newdf(cnt_min):\n",
    "    pcts = np.linspace(0.5,1,101)\n",
    "    newdf = pd.DataFrame()\n",
    "\n",
    "    newdf['pcts'] = pcts\n",
    "    cond = (cnt_df['total'] > cnt_min)\n",
    "    newdf['cnt'] = [len(list(set(cnt_df[(cnt_df['pct'] >= p) & cond]['country']))) for p in pcts]\n",
    "    \n",
    "    return newdf\n",
    "\n",
    "\n",
    "fig, ax = plt.subplots(figsize=(10,5))\n",
    "ax.set_title(f'Tag Value Percent Threshold vs. Total Unique Countries Tagged')\n",
    "ax.set(xlabel='Minimum Percent of Tag Value Per Source', ylabel='Total Countries')\n",
    "\n",
    "df0 = _newdf(0)\n",
    "sns.lineplot(data=df0, x=df0['pcts'], y=df0['cnt'], ax=ax)\n",
    "\n",
    "df2 = _newdf(2)\n",
    "sns.lineplot(data=df2, x=df2['pcts'], y=df2['cnt'], ax=ax)\n",
    "\n",
    "df4 = _newdf(4)\n",
    "sns.lineplot(data=df4, x=df4['pcts'], y=df4['cnt'], ax=ax)\n",
    "\n",
    "df6 = _newdf(6)\n",
    "sns.lineplot(data=df6, x=df6['pcts'], y=df6['cnt'], ax=ax)\n",
    "\n",
    "df8 = _newdf(8)\n",
    "sns.lineplot(data=df8, x=df8['pcts'], y=df8['cnt'], ax=ax)\n",
    "\n",
    "df10 = _newdf(10)\n",
    "sns.lineplot(data=df10, x=df10['pcts'], y=df10['cnt'], ax=ax)"
   ]
  },
  {
   "cell_type": "code",
   "execution_count": 117,
   "id": "2d59ca05",
   "metadata": {},
   "outputs": [
    {
     "data": {
      "text/plain": [
       "<AxesSubplot:title={'center':'Tag Value Percent Threshold vs. Total Unique Event Types Tagged'}, xlabel='Minimum Percent of Tag Value Per Source', ylabel='Total Event Types'>"
      ]
     },
     "execution_count": 117,
     "metadata": {},
     "output_type": "execute_result"
    },
    {
     "data": {
      "image/png": "[encoded data removed]",
      "text/plain": [
       "<Figure size 720x360 with 1 Axes>"
      ]
     },
     "metadata": {
      "needs_background": "light"
     },
     "output_type": "display_data"
    }
   ],
   "source": [
    "cnt_df = sqldf('''\n",
    "    SELECT a.source_singular, a.sub_event_type, cnt, cast(total as int) total, cast(cast(cnt as double)/cast(total as double) as double) pct FROM\n",
    "        (SELECT source_singular, sub_event_type, count(*) cnt FROM extd_df GROUP BY source_singular, sub_event_type) a\n",
    "        JOIN (SELECT source_singular, count(*) total FROM extd_df GROUP BY source_singular) b\n",
    "        ON a.source_singular = b.source_singular\n",
    "''', globals())\n",
    "\n",
    "def _newdf(cnt_min):\n",
    "    pcts = np.linspace(0.5,1,101)\n",
    "    newdf = pd.DataFrame()\n",
    "\n",
    "    newdf['pcts'] = pcts\n",
    "    cond = (cnt_df['total'] > cnt_min)\n",
    "    newdf['cnt'] = [len(list(set(cnt_df[(cnt_df['pct'] >= p) & cond]['sub_event_type']))) for p in pcts]\n",
    "    \n",
    "    return newdf\n",
    "\n",
    "\n",
    "fig, ax = plt.subplots(figsize=(10,5))\n",
    "ax.set_title(f'Tag Value Percent Threshold vs. Total Unique Event Types Tagged')\n",
    "ax.set(xlabel='Minimum Percent of Tag Value Per Source', ylabel='Total Event Types')\n",
    "\n",
    "df0 = _newdf(0)\n",
    "sns.lineplot(data=df0, x=df0['pcts'], y=df0['cnt'], ax=ax)\n",
    "\n",
    "df2 = _newdf(2)\n",
    "sns.lineplot(data=df2, x=df2['pcts'], y=df2['cnt'], ax=ax)\n",
    "\n",
    "df4 = _newdf(4)\n",
    "sns.lineplot(data=df4, x=df4['pcts'], y=df4['cnt'], ax=ax)\n",
    "\n",
    "df6 = _newdf(6)\n",
    "sns.lineplot(data=df6, x=df6['pcts'], y=df6['cnt'], ax=ax)\n",
    "\n",
    "df8 = _newdf(8)\n",
    "sns.lineplot(data=df8, x=df8['pcts'], y=df8['cnt'], ax=ax)\n",
    "\n",
    "df0 = _newdf(10)\n",
    "sns.lineplot(data=df0, x=df0['pcts'], y=df0['cnt'], ax=ax)"
   ]
  }
 ],
 "metadata": {
  "kernelspec": {
   "display_name": "Python 3 (ipykernel)",
   "language": "python",
   "name": "python3"
  },
  "language_info": {
   "codemirror_mode": {
    "name": "ipython",
    "version": 3
   },
   "file_extension": ".py",
   "mimetype": "text/x-python",
   "name": "python",
   "nbconvert_exporter": "python",
   "pygments_lexer": "ipython3",
   "version": "3.10.0"
  },
  "varInspector": {
   "cols": {
    "lenName": 16,
    "lenType": 16,
    "lenVar": 40
   },
   "kernels_config": {
    "python": {
     "delete_cmd_postfix": "",
     "delete_cmd_prefix": "del ",
     "library": "var_list.py",
     "varRefreshCmd": "print(var_dic_list())"
    },
    "r": {
     "delete_cmd_postfix": ") ",
     "delete_cmd_prefix": "rm(",
     "library": "var_list.r",
     "varRefreshCmd": "cat(var_dic_list()) "
    }
   },
   "types_to_exclude": [
    "module",
    "function",
    "builtin_function_or_method",
    "instance",
    "_Feature"
   ],
   "window_display": false
  }
 },
 "nbformat": 4,
 "nbformat_minor": 5
}
