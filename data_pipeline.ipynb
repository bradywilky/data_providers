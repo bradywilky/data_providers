{
 "cells": [
  {
   "cell_type": "markdown",
   "id": "4f05dfeb",
   "metadata": {},
   "source": [
    "# ACLED API User Guide:\n",
    "https://acleddata.com/acleddatanew/wp-content/uploads/2020/10/ACLED_API-User-Guide_2020.pdf"
   ]
  },
  {
   "cell_type": "code",
   "execution_count": 43,
   "id": "bf9edaad",
   "metadata": {},
   "outputs": [],
   "source": [
    "import pandas as pd\n",
    "\n",
    "import csv\n",
    "import requests\n",
    "import json\n",
    "\n",
    "\n",
    "def get_acled_dataframe(url):\n",
    "\n",
    "    with requests.Session() as s:\n",
    "        download = s.get(url)\n",
    "\n",
    "    decoded_content = download.content.decode('utf-8')\n",
    "\n",
    "    res = json.loads(decoded_content)\n",
    "    data = res['data']\n",
    "\n",
    "    return pd.DataFrame(data)"
   ]
  },
  {
   "cell_type": "code",
   "execution_count": 58,
   "id": "fca3ce9e",
   "metadata": {},
   "outputs": [
    {
     "data": {
      "text/plain": [
       "99"
      ]
     },
     "execution_count": 58,
     "metadata": {},
     "output_type": "execute_result"
    }
   ],
   "source": [
    "url = 'https://api.acleddata.com/acled/read?key=fTIpbk9YOV5PYNcjf3v3&email=bwilki13@gmu.edu&limit=100&event_date=2022-07-04'\n",
    "df = get_acled_dataframe(url)"
   ]
  },
  {
   "cell_type": "code",
   "execution_count": 57,
   "id": "76b773d9",
   "metadata": {},
   "outputs": [
    {
     "data": {
      "text/plain": [
       "'https://api.acleddata.com/acled/read?key=fTIpbk9YOV5PYNcjf3v3&email=bwilki13@gmu.edu&limit=1000&event_date=2022-07-04'"
      ]
     },
     "execution_count": 57,
     "metadata": {},
     "output_type": "execute_result"
    }
   ],
   "source": [
    "\n",
    "# date (str): YYYY-MM-DD\n",
    "# date_range (str): YYYY-MM-DD:AND:YYYY-MM-DD\n",
    "\n",
    "def get_url(limit=100, date=None, date_range=None, location=None):\n",
    "    \n",
    "    email = 'bwilki13@gmu.edu'\n",
    "    acled_key = 'fTIpbk9YOV5PYNcjf3v3'\n",
    "    \n",
    "    url = f'https://api.acleddata.com/acled/read?key={acled_key}&email={email}'\n",
    "    \n",
    "    filters = f'&limit={limit}'\n",
    "    if date:\n",
    "        filters += f'&event_date={date}'\n",
    "    if date_range:\n",
    "        filters += f'&event_date:BETWEEN:{date_range}'\n",
    "    \n",
    "    return url + filters\n",
    "\n",
    "get_url(1000)"
   ]
  },
  {
   "cell_type": "markdown",
   "id": "83160feb",
   "metadata": {},
   "source": [
    "<code>\n",
    "\n",
    "# key = {api_key}\n",
    "# email = {email address associated with key}\n",
    "# data_id = ?data_id={number}\n",
    "# iso = ?iso={number}\n",
    "# event_id_cnty LIKE ?event_id_cnty={text}\n",
    "# event_id_no_cnty LIKE ?event_id_no_cnty={text}\n",
    "# event_date = ?event_date={yyyy-mm-dd}\n",
    "# year = ?year={yyyy}\n",
    "# time_precision = ?time_precision={number}\n",
    "# event_type LIKE ?event_type={text}\n",
    "# sub_event_type LIKE ?sub_event_type={text}\n",
    "# actor1 LIKE ?actor1={text}\n",
    "# assoc_actor_1 LIKE ?assoc_actor_1={text}\n",
    "# inter1 = ?inter1={number}\n",
    "# actor2 LIKE ?actor2={text}\n",
    "# assoc_actor_2 LIKE ?assoc_actor_2={text}\n",
    "# inter2 = ?inter2={number}\n",
    "# interaction = ?interaction={number}\n",
    "# region = ?region={number}\n",
    "# country LIKE ?country={text}\n",
    "# admin1 LIKE ?admin1={text}\n",
    "# admin2 LIKE ?admin2={text}\n",
    "    \n",
    "<code>"
   ]
  }
 ],
 "metadata": {
  "kernelspec": {
   "display_name": "Python 3 (ipykernel)",
   "language": "python",
   "name": "python3"
  },
  "language_info": {
   "codemirror_mode": {
    "name": "ipython",
    "version": 3
   },
   "file_extension": ".py",
   "mimetype": "text/x-python",
   "name": "python",
   "nbconvert_exporter": "python",
   "pygments_lexer": "ipython3",
   "version": "3.10.0"
  }
 },
 "nbformat": 4,
 "nbformat_minor": 5
}
