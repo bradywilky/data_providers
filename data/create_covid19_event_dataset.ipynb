{
 "cells": [
  {
   "cell_type": "markdown",
   "id": "2b0b053f",
   "metadata": {},
   "source": [
    "According to the ACLED history:<br>\n",
    "\"In 2019, ACLED introduced new event and sub-event types to improve the project’s core methodology. By 2020,\n",
    "the project expanded geographic coverage to Europe, Central Asia and the Caucasus, East Asia, Latin America\n",
    "and the Caribbean, and the United States. In 2022, ACLED completed a final geographic expansion to Canada,\n",
    "Oceania, Antarctica, and all remaining small states and territories.\"\n",
    "\n",
    "This means that events occurring in Canada and countries in Oceania (Australia, New Zealand, etc.) will not have entries before 2022 event_date values."
   ]
  },
  {
   "cell_type": "code",
   "execution_count": 3,
   "id": "8890471a",
   "metadata": {},
   "outputs": [],
   "source": [
    "import pandas as pd\n",
    "from ipynb.fs.full.data_pipeline import get_url, get_acled_dataframe"
   ]
  },
  {
   "cell_type": "markdown",
   "id": "39d7bb06",
   "metadata": {},
   "source": [
    "Since our project's focus is on COVID-19-related events, and the ACLED dataset contains all sorts of different events, we need to filter the ACLED data to only capture events that have to do with COVID-19. To do this, we add filters to the ACLED data API requests. We assume that any COVID-19 event will mention it in the <code>notes</code> column, so we add the filters that <code>notes</code> must contain either the string 'coronavirus' or 'COVID-19'."
   ]
  },
  {
   "cell_type": "code",
   "execution_count": 7,
   "id": "a24f7ac2",
   "metadata": {},
   "outputs": [
    {
     "data": {
      "text/plain": [
       "64480"
      ]
     },
     "execution_count": 7,
     "metadata": {},
     "output_type": "execute_result"
    }
   ],
   "source": [
    "url = get_url(limit=1000000, notes='coronavirus')\n",
    "cor_df = get_acled_dataframe(url)\n",
    "len(cor_df)"
   ]
  },
  {
   "cell_type": "code",
   "execution_count": 8,
   "id": "03325561",
   "metadata": {},
   "outputs": [
    {
     "data": {
      "text/plain": [
       "1929"
      ]
     },
     "execution_count": 8,
     "metadata": {},
     "output_type": "execute_result"
    }
   ],
   "source": [
    "url = get_url(limit=1000000, notes='COVID-19')\n",
    "cov_df = get_acled_dataframe(url)\n",
    "len(cov_df)"
   ]
  },
  {
   "cell_type": "markdown",
   "id": "e634c3c4",
   "metadata": {},
   "source": [
    "There are likely rows that contain both strings, so there may be some duplicate rows we need to get rid of."
   ]
  },
  {
   "cell_type": "code",
   "execution_count": 12,
   "id": "c12245e5",
   "metadata": {},
   "outputs": [
    {
     "name": "stdout",
     "output_type": "stream",
     "text": [
      "Dropping 1303 duplicates.\n"
     ]
    }
   ],
   "source": [
    "df_raw = pd.concat([cor_df, cov_df])\n",
    "df = df_raw.drop_duplicates()\n",
    "\n",
    "print(f'Dropping {len(df_raw) - len(df)} duplicates.')"
   ]
  },
  {
   "cell_type": "markdown",
   "id": "e19ae940",
   "metadata": {},
   "source": [
    "We then save our filtered dataset as a local CSV file to easily read and use in our analysis."
   ]
  },
  {
   "cell_type": "code",
   "execution_count": 14,
   "id": "4ff90d26",
   "metadata": {},
   "outputs": [],
   "source": [
    "df.to_csv('acled_covid19.csv')"
   ]
  }
 ],
 "metadata": {
  "kernelspec": {
   "display_name": "Python 3 (ipykernel)",
   "language": "python",
   "name": "python3"
  },
  "language_info": {
   "codemirror_mode": {
    "name": "ipython",
    "version": 3
   },
   "file_extension": ".py",
   "mimetype": "text/x-python",
   "name": "python",
   "nbconvert_exporter": "python",
   "pygments_lexer": "ipython3",
   "version": "3.10.0"
  }
 },
 "nbformat": 4,
 "nbformat_minor": 5
}
