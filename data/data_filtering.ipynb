{
 "cells": [
  {
   "cell_type": "code",
   "execution_count": 1,
   "id": "431328a1",
   "metadata": {},
   "outputs": [],
   "source": [
    "from ipynb.fs.full.data_pipeline import get_url, get_acled_dataframe"
   ]
  },
  {
   "cell_type": "code",
   "execution_count": 3,
   "id": "9df297f5",
   "metadata": {},
   "outputs": [
    {
     "data": {
      "text/plain": [
       "64381"
      ]
     },
     "execution_count": 3,
     "metadata": {},
     "output_type": "execute_result"
    }
   ],
   "source": [
    "# Example\n",
    "\n",
    "# url = get_url(limit=1000000, notes='covid')\n",
    "# df = get_acled_dataframe(url)\n",
    "# len(df)\n",
    "url = get_url(limit=1000000, notes='coronavirus')\n",
    "df2 = get_acled_dataframe(url)\n",
    "len(df2)"
   ]
  },
  {
   "cell_type": "code",
   "execution_count": 5,
   "id": "629207a9",
   "metadata": {},
   "outputs": [
    {
     "data": {
      "text/html": [
       "<div>\n",
       "<style scoped>\n",
       "    .dataframe tbody tr th:only-of-type {\n",
       "        vertical-align: middle;\n",
       "    }\n",
       "\n",
       "    .dataframe tbody tr th {\n",
       "        vertical-align: top;\n",
       "    }\n",
       "\n",
       "    .dataframe thead th {\n",
       "        text-align: right;\n",
       "    }\n",
       "</style>\n",
       "<table border=\"1\" class=\"dataframe\">\n",
       "  <thead>\n",
       "    <tr style=\"text-align: right;\">\n",
       "      <th></th>\n",
       "      <th>data_id</th>\n",
       "      <th>iso</th>\n",
       "      <th>event_id_cnty</th>\n",
       "      <th>event_id_no_cnty</th>\n",
       "      <th>event_date</th>\n",
       "      <th>year</th>\n",
       "      <th>time_precision</th>\n",
       "      <th>event_type</th>\n",
       "      <th>sub_event_type</th>\n",
       "      <th>actor1</th>\n",
       "      <th>...</th>\n",
       "      <th>location</th>\n",
       "      <th>latitude</th>\n",
       "      <th>longitude</th>\n",
       "      <th>geo_precision</th>\n",
       "      <th>source</th>\n",
       "      <th>source_scale</th>\n",
       "      <th>notes</th>\n",
       "      <th>fatalities</th>\n",
       "      <th>timestamp</th>\n",
       "      <th>iso3</th>\n",
       "    </tr>\n",
       "  </thead>\n",
       "  <tbody>\n",
       "    <tr>\n",
       "      <th>0</th>\n",
       "      <td>9491030</td>\n",
       "      <td>410</td>\n",
       "      <td>KOR25174</td>\n",
       "      <td>25174</td>\n",
       "      <td>2022-09-16</td>\n",
       "      <td>2022</td>\n",
       "      <td>1</td>\n",
       "      <td>Protests</td>\n",
       "      <td>Peaceful protest</td>\n",
       "      <td>Protesters (South Korea)</td>\n",
       "      <td>...</td>\n",
       "      <td>Seoul City - Seocho</td>\n",
       "      <td>37.4744</td>\n",
       "      <td>127.0304</td>\n",
       "      <td>1</td>\n",
       "      <td>EDaily</td>\n",
       "      <td>National</td>\n",
       "      <td>On 16 September 2022, members of the All-Korea...</td>\n",
       "      <td>0</td>\n",
       "      <td>1663685720</td>\n",
       "      <td>KOR</td>\n",
       "    </tr>\n",
       "  </tbody>\n",
       "</table>\n",
       "<p>1 rows × 31 columns</p>\n",
       "</div>"
      ],
      "text/plain": [
       "   data_id  iso event_id_cnty event_id_no_cnty  event_date  year  \\\n",
       "0  9491030  410      KOR25174            25174  2022-09-16  2022   \n",
       "\n",
       "  time_precision event_type    sub_event_type                    actor1  ...  \\\n",
       "0              1   Protests  Peaceful protest  Protesters (South Korea)  ...   \n",
       "\n",
       "              location latitude longitude geo_precision  source source_scale  \\\n",
       "0  Seoul City - Seocho  37.4744  127.0304             1  EDaily     National   \n",
       "\n",
       "                                               notes fatalities   timestamp  \\\n",
       "0  On 16 September 2022, members of the All-Korea...          0  1663685720   \n",
       "\n",
       "  iso3  \n",
       "0  KOR  \n",
       "\n",
       "[1 rows x 31 columns]"
      ]
     },
     "execution_count": 5,
     "metadata": {},
     "output_type": "execute_result"
    }
   ],
   "source": [
    "df2.head(1)"
   ]
  }
 ],
 "metadata": {
  "kernelspec": {
   "display_name": "Python 3 (ipykernel)",
   "language": "python",
   "name": "python3"
  },
  "language_info": {
   "codemirror_mode": {
    "name": "ipython",
    "version": 3
   },
   "file_extension": ".py",
   "mimetype": "text/x-python",
   "name": "python",
   "nbconvert_exporter": "python",
   "pygments_lexer": "ipython3",
   "version": "3.10.0"
  }
 },
 "nbformat": 4,
 "nbformat_minor": 5
}
