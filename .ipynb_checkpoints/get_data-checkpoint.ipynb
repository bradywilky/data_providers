{
 "cells": [
  {
   "cell_type": "code",
   "execution_count": 20,
   "id": "f489935f",
   "metadata": {},
   "outputs": [],
   "source": [
    "import requests\n",
    "import csv"
   ]
  },
  {
   "cell_type": "code",
   "execution_count": 26,
   "id": "d78cf1b0",
   "metadata": {},
   "outputs": [],
   "source": [
    "key = 'fTIpbk9YOV5PYNcjf3v3'\n",
    "email = 'bradywilky@gmail.com'\n",
    "url = f'https://api.acleddata.com/acled/read?key={key}&email={email}'\n",
    "download = requests.get(url)"
   ]
  },
  {
   "cell_type": "code",
   "execution_count": 29,
   "id": "d47e115a",
   "metadata": {},
   "outputs": [],
   "source": [
    "dl = requests.get('https://api.acleddata.com/acled/read?key=fTIpbk9YOV5PYNcjf3v3&email=bradywilky@gmail.com')"
   ]
  },
  {
   "cell_type": "code",
   "execution_count": 30,
   "id": "0246e100",
   "metadata": {},
   "outputs": [
    {
     "data": {
      "text/plain": [
       "'{\"status\":403,\"success\":false,\"count\":0,\"error\":{\"status\":403,\"message\":\"You\\\\u00a0have\\\\u00a0reached\\\\u00a0your\\\\u00a0download\\\\u00a0limit\\\\u00a0for\\\\u00a0the\\\\u00a0year. Please note that download limits apply collectively to all users affiliated with the same organization. To\\\\u00a0download\\\\u00a0more ACLED data,\\\\u00a0you\\\\u00a0can either wait until\\\\u00a0the\\\\u00a0start of\\\\u00a0your\\\\u00a0yearly cycle (one\\\\u00a0year\\\\u00a0from\\\\u00a0the\\\\u00a0date\\\\u00a0you\\\\u00a0registered) or reach out to\\\\u00a0the\\\\u00a0ACLED Access team (access@acleddata.com) to discuss other options.\"}}'"
      ]
     },
     "execution_count": 30,
     "metadata": {},
     "output_type": "execute_result"
    }
   ],
   "source": [
    "dl.text"
   ]
  }
 ],
 "metadata": {
  "kernelspec": {
   "display_name": "Python 3 (ipykernel)",
   "language": "python",
   "name": "python3"
  },
  "language_info": {
   "codemirror_mode": {
    "name": "ipython",
    "version": 3
   },
   "file_extension": ".py",
   "mimetype": "text/x-python",
   "name": "python",
   "nbconvert_exporter": "python",
   "pygments_lexer": "ipython3",
   "version": "3.10.0"
  }
 },
 "nbformat": 4,
 "nbformat_minor": 5
}
