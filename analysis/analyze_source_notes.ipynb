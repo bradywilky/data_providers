{
 "cells": [
  {
   "cell_type": "code",
   "execution_count": 29,
   "id": "dc84e702",
   "metadata": {},
   "outputs": [],
   "source": [
    "import pandas as pd\n",
    "\n",
    "import spacy\n",
    "\n",
    "# Import SpaCy English model\n",
    "import en_core_web_sm\n",
    "\n",
    "# Load English tokenizer, tagger, parser, NER and word vectors\n",
    "nlp = en_core_web_sm.load()\n",
    "from spacy import displacy\n",
    "\n",
    "from collections import Counter\n",
    "from pprint import pprint\n",
    "\n",
    "\n",
    "base_df = pd.read_csv('../data/acled_covid19.csv')\n",
    "extd_df = pd.read_csv('../data/EXPANDED_acled_covid19.csv')"
   ]
  },
  {
   "cell_type": "code",
   "execution_count": 30,
   "id": "9798cd19",
   "metadata": {},
   "outputs": [],
   "source": [
    "all_notes = ''\n",
    "for i in base_df.notes:\n",
    "    all_notes += i + ' '\n",
    "    \n",
    "i0 = 0\n",
    "i1 = 1999999\n",
    "sample = all_notes[i0:i1]"
   ]
  },
  {
   "cell_type": "code",
   "execution_count": 34,
   "id": "0489eceb",
   "metadata": {},
   "outputs": [
    {
     "name": "stdout",
     "output_type": "stream",
     "text": [
      "1999999 1007527\n"
     ]
    }
   ],
   "source": [
    "from nltk.corpus import stopwords\n",
    "from nltk.tokenize import word_tokenize\n",
    "\n",
    "stop_words = set(stopwords.words('english'))\n",
    "\n",
    "sample_mod = sample\n",
    "for s in stop_words:\n",
    "    sample_mod = sample_mod.replace(s, '')\n",
    "\n",
    "sample_mod = sample_mod.replace('  ', ' ')\n",
    "print(len(sample), len(sample_mod))"
   ]
  },
  {
   "cell_type": "code",
   "execution_count": 28,
   "id": "73c34a3f",
   "metadata": {},
   "outputs": [
    {
     "data": {
      "text/plain": [
       "[('hundreds', 575),\n",
       " ('dozens', 476),\n",
       " ('10 January 2022', 387),\n",
       " ('around 100', 319),\n",
       " ('17 January 2022', 319)]"
      ]
     },
     "execution_count": 28,
     "metadata": {},
     "output_type": "execute_result"
    }
   ],
   "source": [
    "i0 = 0\n",
    "i1 = 2999999\n",
    "\n",
    "nlp.max_length = i1-i0\n",
    "\n",
    "sample = all_notes[i0:i1]\n",
    "\n",
    "# Get the token-level entity annotations using the BILUO tagging scheme to describe the entity boundaries\n",
    "mytext = nlp(sample)\n",
    "\n",
    "# pprint([(X, X.ent_iob_, X.ent_type_) for X in mytext])\n",
    "items = [x.text for x in mytext.ents]\n",
    "Counter(items).most_common(5)"
   ]
  },
  {
   "cell_type": "code",
   "execution_count": 13,
   "id": "e905f3a7",
   "metadata": {},
   "outputs": [
    {
     "name": "stdout",
     "output_type": "stream",
     "text": [
      "17 September 2022 3 20 DATE Absolute or relative dates or periods\n",
      "Ciudad Bolivar (Bolivar 25 48 FAC Buildings, airports, highways, bridges, etc.\n",
      "Venezuelan Corporation 78 100 ORG Companies, agencies, institutions, etc.\n",
      "Guayana 104 111 ORG Companies, agencies, institutions, etc.\n",
      "CVG 113 116 ORG Companies, agencies, institutions, etc.\n"
     ]
    }
   ],
   "source": [
    "for ent in mytext.ents:\n",
    "     print(ent.text, ent.start_char, ent.end_char,\n",
    "           ent.label_, spacy.explain(ent.label_))"
   ]
  }
 ],
 "metadata": {
  "kernelspec": {
   "display_name": "Python 3 (ipykernel)",
   "language": "python",
   "name": "python3"
  },
  "language_info": {
   "codemirror_mode": {
    "name": "ipython",
    "version": 3
   },
   "file_extension": ".py",
   "mimetype": "text/x-python",
   "name": "python",
   "nbconvert_exporter": "python",
   "pygments_lexer": "ipython3",
   "version": "3.10.0"
  }
 },
 "nbformat": 4,
 "nbformat_minor": 5
}
